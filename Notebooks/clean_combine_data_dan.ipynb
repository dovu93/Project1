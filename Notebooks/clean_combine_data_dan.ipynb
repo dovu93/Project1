{
 "cells": [
  {
   "cell_type": "code",
   "execution_count": 1,
   "metadata": {},
   "outputs": [],
   "source": [
    "import pandas as pd\n",
    "from pathlib import Path"
   ]
  },
  {
   "cell_type": "markdown",
   "metadata": {},
   "source": [
    "# Data Import and cleaning"
   ]
  },
  {
   "cell_type": "markdown",
   "metadata": {},
   "source": [
    "### Clean main realtor csv data"
   ]
  },
  {
   "cell_type": "code",
   "execution_count": 2,
   "metadata": {},
   "outputs": [],
   "source": [
    "# Jack's main realtor csv import code here"
   ]
  },
  {
   "cell_type": "code",
   "execution_count": 3,
   "metadata": {},
   "outputs": [
    {
     "data": {
      "text/html": [
       "<div>\n",
       "<style scoped>\n",
       "    .dataframe tbody tr th:only-of-type {\n",
       "        vertical-align: middle;\n",
       "    }\n",
       "\n",
       "    .dataframe tbody tr th {\n",
       "        vertical-align: top;\n",
       "    }\n",
       "\n",
       "    .dataframe thead th {\n",
       "        text-align: right;\n",
       "    }\n",
       "</style>\n",
       "<table border=\"1\" class=\"dataframe\">\n",
       "  <thead>\n",
       "    <tr style=\"text-align: right;\">\n",
       "      <th></th>\n",
       "      <th>zip_code</th>\n",
       "      <th>zip_name</th>\n",
       "      <th>median_listing_price</th>\n",
       "      <th>active_listing_count</th>\n",
       "      <th>median_days_on_market</th>\n",
       "      <th>new_listing_count</th>\n",
       "      <th>price_increased_count</th>\n",
       "      <th>price_reduced_count</th>\n",
       "      <th>pending_listing_count</th>\n",
       "      <th>median_listing_price_per_square_feet</th>\n",
       "      <th>median_square_feet</th>\n",
       "      <th>average_listing_price</th>\n",
       "      <th>total_listing_count</th>\n",
       "      <th>pending_ratio</th>\n",
       "      <th>pct_price_change</th>\n",
       "      <th>pct_price_sqft</th>\n",
       "      <th>pct_price_sqft_change</th>\n",
       "    </tr>\n",
       "  </thead>\n",
       "  <tbody>\n",
       "    <tr>\n",
       "      <th>date</th>\n",
       "      <td>NaN</td>\n",
       "      <td>NaN</td>\n",
       "      <td>NaN</td>\n",
       "      <td>NaN</td>\n",
       "      <td>NaN</td>\n",
       "      <td>NaN</td>\n",
       "      <td>NaN</td>\n",
       "      <td>NaN</td>\n",
       "      <td>NaN</td>\n",
       "      <td>NaN</td>\n",
       "      <td>NaN</td>\n",
       "      <td>NaN</td>\n",
       "      <td>NaN</td>\n",
       "      <td>NaN</td>\n",
       "      <td>NaN</td>\n",
       "      <td>NaN</td>\n",
       "      <td>NaN</td>\n",
       "    </tr>\n",
       "  </tbody>\n",
       "</table>\n",
       "</div>"
      ],
      "text/plain": [
       "     zip_code zip_name median_listing_price active_listing_count  \\\n",
       "date      NaN      NaN                  NaN                  NaN   \n",
       "\n",
       "     median_days_on_market new_listing_count price_increased_count  \\\n",
       "date                   NaN               NaN                   NaN   \n",
       "\n",
       "     price_reduced_count pending_listing_count  \\\n",
       "date                 NaN                   NaN   \n",
       "\n",
       "     median_listing_price_per_square_feet median_square_feet  \\\n",
       "date                                  NaN                NaN   \n",
       "\n",
       "     average_listing_price total_listing_count pending_ratio pct_price_change  \\\n",
       "date                   NaN                 NaN           NaN              NaN   \n",
       "\n",
       "     pct_price_sqft pct_price_sqft_change  \n",
       "date            NaN                   NaN  "
      ]
     },
     "execution_count": 3,
     "metadata": {},
     "output_type": "execute_result"
    }
   ],
   "source": [
    "# Jack's main realtor output dataframe code here\n",
    "# insert complete code\n",
    "#\n",
    "# staging data frame (replace with actual code above)\n",
    "pricing_columns = [\n",
    "    #'date',\n",
    "    'postal_code', \n",
    "    'zip_name',\n",
    "    'median_listing_price',\n",
    "    'active_listing_count',\n",
    "    'median_days_on_market',\n",
    "    'new_listing_count',\n",
    "    'price_increased_count',\n",
    "    'price_reduced_count',\n",
    "    'pending_listing_count',\n",
    "    'median_listing_price_per_square_feet',\n",
    "    'median_square_feet',\n",
    "    'average_listing_price',\n",
    "    'total_listing_count',\n",
    "    'pending_ratio',\n",
    "    'pct_price_change',\n",
    "    'pct_price_sqft',\n",
    "    'pct_price_sqft_change'\n",
    "    ]\n",
    "\n",
    "pricing_data_df = pd.DataFrame(index=['date'], columns=pricing_columns)\n",
    "\n",
    "# rename columns to match other data set columns\n",
    "pricing_data_df.rename(columns={'postal_code':'zip_code'}, inplace=True)\n",
    "pricing_data_df.head()\n"
   ]
  },
  {
   "cell_type": "markdown",
   "metadata": {},
   "source": [
    "### Clean tax csv data"
   ]
  },
  {
   "cell_type": "code",
   "execution_count": 4,
   "metadata": {},
   "outputs": [],
   "source": [
    "# Vu's tax csv import code here\n",
    "#Zip Code,Size of adjusted gross income,Number of returns,Real Estate Taxes,Home mortgage interest paid,Total charitable contributions,Taxable income,Income tax"
   ]
  },
  {
   "cell_type": "code",
   "execution_count": 5,
   "metadata": {},
   "outputs": [
    {
     "data": {
      "text/html": [
       "<div>\n",
       "<style scoped>\n",
       "    .dataframe tbody tr th:only-of-type {\n",
       "        vertical-align: middle;\n",
       "    }\n",
       "\n",
       "    .dataframe tbody tr th {\n",
       "        vertical-align: top;\n",
       "    }\n",
       "\n",
       "    .dataframe thead th {\n",
       "        text-align: right;\n",
       "    }\n",
       "</style>\n",
       "<table border=\"1\" class=\"dataframe\">\n",
       "  <thead>\n",
       "    <tr style=\"text-align: right;\">\n",
       "      <th></th>\n",
       "      <th>zip_code</th>\n",
       "      <th>size_adjusted_gross_income</th>\n",
       "      <th>num_returns</th>\n",
       "      <th>real_estate_taxes</th>\n",
       "      <th>home_mortgage_interest_paid</th>\n",
       "      <th>total_charitable_contributions</th>\n",
       "      <th>taxable_income</th>\n",
       "      <th>income_tax</th>\n",
       "    </tr>\n",
       "  </thead>\n",
       "  <tbody>\n",
       "    <tr>\n",
       "      <th>date</th>\n",
       "      <td>NaN</td>\n",
       "      <td>NaN</td>\n",
       "      <td>NaN</td>\n",
       "      <td>NaN</td>\n",
       "      <td>NaN</td>\n",
       "      <td>NaN</td>\n",
       "      <td>NaN</td>\n",
       "      <td>NaN</td>\n",
       "    </tr>\n",
       "  </tbody>\n",
       "</table>\n",
       "</div>"
      ],
      "text/plain": [
       "     zip_code size_adjusted_gross_income num_returns real_estate_taxes  \\\n",
       "date      NaN                        NaN         NaN               NaN   \n",
       "\n",
       "     home_mortgage_interest_paid total_charitable_contributions  \\\n",
       "date                         NaN                            NaN   \n",
       "\n",
       "     taxable_income income_tax  \n",
       "date            NaN        NaN  "
      ]
     },
     "execution_count": 5,
     "metadata": {},
     "output_type": "execute_result"
    }
   ],
   "source": [
    "# Vu's tax output dataframe code here\n",
    "# insert complete code\n",
    "#\n",
    "# staging data frame (replace with actual code above)\n",
    "tax_columns = [\n",
    "    #'date',\n",
    "    'Zip Code', \n",
    "    'Size of adjusted gross income',\n",
    "    'Number of returns',\n",
    "    'Real Estate Taxes',\n",
    "    'Home mortgage interest paid',\n",
    "    'Total charitable contributions',\n",
    "    'Taxable income',\n",
    "    'Income tax'\n",
    "    ]\n",
    "\n",
    "tax_data_df = pd.DataFrame(index=['date'], columns=tax_columns)\n",
    "\n",
    "# rename columns to match other data set columns\n",
    "tax_data_df.columns = ['zip_code',\n",
    "                       'size_adjusted_gross_income',\n",
    "                       'num_returns',\n",
    "                       'real_estate_taxes',\n",
    "                       'home_mortgage_interest_paid',\n",
    "                       'total_charitable_contributions',\n",
    "                       'taxable_income',\n",
    "                       'income_tax']\n",
    "tax_data_df.head()"
   ]
  },
  {
   "cell_type": "markdown",
   "metadata": {},
   "source": [
    "### Clean construction permit csv data"
   ]
  },
  {
   "cell_type": "code",
   "execution_count": 6,
   "metadata": {},
   "outputs": [],
   "source": [
    "# Construction permit csv import code here"
   ]
  },
  {
   "cell_type": "code",
   "execution_count": 9,
   "metadata": {},
   "outputs": [
    {
     "data": {
      "text/html": [
       "<div>\n",
       "<style scoped>\n",
       "    .dataframe tbody tr th:only-of-type {\n",
       "        vertical-align: middle;\n",
       "    }\n",
       "\n",
       "    .dataframe tbody tr th {\n",
       "        vertical-align: top;\n",
       "    }\n",
       "\n",
       "    .dataframe thead th {\n",
       "        text-align: right;\n",
       "    }\n",
       "</style>\n",
       "<table border=\"1\" class=\"dataframe\">\n",
       "  <thead>\n",
       "    <tr style=\"text-align: right;\">\n",
       "      <th></th>\n",
       "      <th>zip_code</th>\n",
       "      <th>permit_type</th>\n",
       "      <th>permit_count</th>\n",
       "      <th>land_use</th>\n",
       "    </tr>\n",
       "    <tr>\n",
       "      <th>date</th>\n",
       "      <th></th>\n",
       "      <th></th>\n",
       "      <th></th>\n",
       "      <th></th>\n",
       "    </tr>\n",
       "  </thead>\n",
       "  <tbody>\n",
       "    <tr>\n",
       "      <th>2017-01-05</th>\n",
       "      <td>77002</td>\n",
       "      <td>Unrestricted</td>\n",
       "      <td>1</td>\n",
       "      <td>Unrestricted</td>\n",
       "    </tr>\n",
       "    <tr>\n",
       "      <th>2017-01-05</th>\n",
       "      <td>77004</td>\n",
       "      <td>Residential</td>\n",
       "      <td>1</td>\n",
       "      <td>Single Family Residential (Shared Driveways)</td>\n",
       "    </tr>\n",
       "    <tr>\n",
       "      <th>2017-01-05</th>\n",
       "      <td>77004</td>\n",
       "      <td>Unrestricted</td>\n",
       "      <td>1</td>\n",
       "      <td>Unrestricted</td>\n",
       "    </tr>\n",
       "    <tr>\n",
       "      <th>2017-01-05</th>\n",
       "      <td>77004</td>\n",
       "      <td>Residential</td>\n",
       "      <td>1</td>\n",
       "      <td>Single Family Residential (Public Street)</td>\n",
       "    </tr>\n",
       "    <tr>\n",
       "      <th>2017-01-05</th>\n",
       "      <td>77006</td>\n",
       "      <td>Residential</td>\n",
       "      <td>1</td>\n",
       "      <td>Single Family Residential (Public Street)</td>\n",
       "    </tr>\n",
       "  </tbody>\n",
       "</table>\n",
       "</div>"
      ],
      "text/plain": [
       "            zip_code   permit_type  permit_count  \\\n",
       "date                                               \n",
       "2017-01-05     77002  Unrestricted             1   \n",
       "2017-01-05     77004   Residential             1   \n",
       "2017-01-05     77004  Unrestricted             1   \n",
       "2017-01-05     77004   Residential             1   \n",
       "2017-01-05     77006   Residential             1   \n",
       "\n",
       "                                                land_use  \n",
       "date                                                      \n",
       "2017-01-05                                  Unrestricted  \n",
       "2017-01-05  Single Family Residential (Shared Driveways)  \n",
       "2017-01-05                                  Unrestricted  \n",
       "2017-01-05     Single Family Residential (Public Street)  \n",
       "2017-01-05     Single Family Residential (Public Street)  "
      ]
     },
     "execution_count": 9,
     "metadata": {},
     "output_type": "execute_result"
    }
   ],
   "source": [
    "# Construction permit output dataframe code here\n",
    "# insert complete code\n",
    "#\n",
    "# Construction permit: staging data frame (replace with actual code above)\n",
    "permit_columns = [\n",
    "    #'date',\n",
    "    'zip_code', \n",
    "    'permit_type',\n",
    "    'count'\n",
    "    ]\n",
    "\n",
    "permits_df = pd.DataFrame(index=['date'], columns=permit_columns)\n",
    "\n",
    "\n",
    "\n",
    "# read in cleaned csv for test combining\n",
    "cleaned_permits_filepath = Path(\"../resources/dan/Permit_Data/permit_data_cleaned.csv\")\n",
    "permits_df = pd.read_csv(cleaned_permits_filepath, index_col='date', infer_datetime_format=True)\n",
    "permits_df.head(1)\n",
    "\n",
    "# rename columns to match other data set columns\n",
    "permits_df.rename(columns={'count':'permit_count'}, inplace=True)\n",
    "permits_df.head()"
   ]
  },
  {
   "cell_type": "markdown",
   "metadata": {},
   "source": [
    "# Combine Data Frames"
   ]
  },
  {
   "cell_type": "code",
   "execution_count": 11,
   "metadata": {},
   "outputs": [
    {
     "data": {
      "text/plain": [
       "Index(['zip_code', 'zip_name', 'median_listing_price', 'active_listing_count',\n",
       "       'median_days_on_market', 'new_listing_count', 'price_increased_count',\n",
       "       'price_reduced_count', 'pending_listing_count',\n",
       "       'median_listing_price_per_square_feet', 'median_square_feet',\n",
       "       'average_listing_price', 'total_listing_count', 'pending_ratio',\n",
       "       'pct_price_change', 'pct_price_sqft', 'pct_price_sqft_change',\n",
       "       'zip_code', 'size_adjusted_gross_income', 'num_returns',\n",
       "       'real_estate_taxes', 'home_mortgage_interest_paid',\n",
       "       'total_charitable_contributions', 'taxable_income', 'income_tax',\n",
       "       'zip_code', 'permit_type', 'permit_count', 'land_use'],\n",
       "      dtype='object')"
      ]
     },
     "execution_count": 11,
     "metadata": {},
     "output_type": "execute_result"
    }
   ],
   "source": [
    "# combine data frames\n",
    "dataset = [\n",
    "    pricing_data_df,\n",
    "    # add additional datasets here,\n",
    "    tax_data_df,\n",
    "    permits_df\n",
    "]\n",
    "\n",
    "combined_df = pd.concat(dataset, axis=\"columns\", join=\"inner\")\n",
    "\n",
    "combined_df.columns"
   ]
  },
  {
   "cell_type": "code",
   "execution_count": null,
   "metadata": {},
   "outputs": [],
   "source": []
  }
 ],
 "metadata": {
  "kernelspec": {
   "display_name": "Python 3",
   "language": "python",
   "name": "python3"
  },
  "language_info": {
   "codemirror_mode": {
    "name": "ipython",
    "version": 3
   },
   "file_extension": ".py",
   "mimetype": "text/x-python",
   "name": "python",
   "nbconvert_exporter": "python",
   "pygments_lexer": "ipython3",
   "version": "3.7.7"
  }
 },
 "nbformat": 4,
 "nbformat_minor": 4
}

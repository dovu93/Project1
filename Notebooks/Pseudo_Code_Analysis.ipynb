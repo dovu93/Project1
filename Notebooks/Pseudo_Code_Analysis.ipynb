{
 "cells": [
  {
   "cell_type": "code",
   "execution_count": 2,
   "metadata": {},
   "outputs": [],
   "source": [
    "##Pseudo Code for Analysis\n",
    "# Import pandas and pathlib\n",
    "import pandas as pd\n",
    "import numpy as np\n",
    "import datetime as dt\n",
    "from pathlib import Path\n",
    "%matplotlib inline\n",
    "#import statsmodels.api as sm"
   ]
  },
  {
   "cell_type": "code",
   "execution_count": 3,
   "metadata": {},
   "outputs": [],
   "source": [
    "#Read in APIs"
   ]
  },
  {
   "cell_type": "code",
   "execution_count": 4,
   "metadata": {},
   "outputs": [],
   "source": [
    "#Read CSVs"
   ]
  },
  {
   "cell_type": "code",
   "execution_count": 5,
   "metadata": {},
   "outputs": [],
   "source": [
    "#All Dates are by year"
   ]
  },
  {
   "cell_type": "code",
   "execution_count": 6,
   "metadata": {},
   "outputs": [],
   "source": [
    "#Pct change by Zip\n",
    "#Price Per Square foot by Zip\n",
    "    #\"Date\" \"Zip\" \"Price Per Square foot\"\n",
    "#Schools\n",
    "    #\"Date\" \"Zip\" \"School District\" \"Grade\"\n",
    "#Crime\n",
    "    #\"Date\" \"Zip\" \"Type\" \n",
    "#Income Tax\n",
    "    #\"Date\" \"Zip\" \"Income Tax Paid\" \"Number of returns\" Total Charitable Contributions\" \"Brackets\"\n",
    "#Real Estate Tax\n",
    "    #\"Date\" \"Zip\" \"Real Estate taxes paid\" \"personal property tax\"\n",
    "#Opportunity Zones\n",
    "    #\"Zip\"\n",
    "#Stray Animals\n",
    "    #\"Date\" \"Zip\" \"Number of Strays Reported\"\n",
    "#Population\n",
    "    #\"Date\" \"Zip\" \"Number of People\"\n",
    "#Construction Permits\n",
    "    #\"Date\" \"Zip\" \"Type (Residential vs Commercial)\"\n",
    "#Restaurant, Bars, & Clubs"
   ]
  },
  {
   "cell_type": "code",
   "execution_count": 7,
   "metadata": {},
   "outputs": [],
   "source": [
    "# Construction Permits Correlation to pct_chg\n",
    "def correlate_construction_permits(permits_df, pct_chg_df, groupby_month=True):\n",
    "    # input: permits_df with date, zip, permit_count, permit_type (permit_type: Residential vs Commercial)\n",
    "    # input: pct_chg_df with date, zip, pct_change\n",
    "    # return dataframe with zip, correlation (correlation of number of permits to pct change by zip code)\n",
    "    \n",
    "    # set 'date' column type to date with year+month or with only year format (for easier groupby date, later)\n",
    "    if groupby_month == True:\n",
    "        \n",
    "        # set 'date' column type to date with year+month only format\n",
    "        permits_df['date'] = pd.to_datetime(permits_df['date'], format= '%Y%m')\n",
    "        pct_chg_df['date'] = pd.to_datetime(pct_chg_df['date'], format= '%Y%m')\n",
    "        \n",
    "    elif groupby_month == False:\n",
    "        \n",
    "        # set 'date' column type to date with year only format\n",
    "        permits_df['date'] = pd.to_datetime(permits_df['date'], format= '%Y', exact=False)\n",
    "        pct_chg_df['date'] = pd.to_datetime(pct_chg_df['date'], format= '%Y', exact=False)\n",
    "\n",
    "    \n",
    "    #  for permits_df and pct_chg_df, groupby zip and date then calculate sum of each zip/date grouping\n",
    "    permits_by_zipdate = permits_df.groupby(['zip','date']).sum()\n",
    "    pct_chg_by_zipdate = pct_chg.groupby(['zip','date']).sum()\n",
    "    \n",
    "#     # TESTING ONLY: spot check data\n",
    "#     print(permits_by_zipdate)\n",
    "    \n",
    "    #  combine permits_by_zipdate and pct_chg_by_zipdate by matching indexes\n",
    "    combined_permits_pct_chg_df = pd.concat([permits_by_zipdate, pct_chg_by_zipdate], axis=\"columns\", join=\"inner\")\n",
    "\n",
    "    # drop any null data rows\n",
    "    combined_permits_pct_chg_df.dropna(inplace=True)\n",
    "    \n",
    "    \n",
    "    # Set column names for use in initializing correlation_per_zip dataframe, for appending rows, and for resetting index\n",
    "    cols = ['zip','permit_correlation']\n",
    "\n",
    "    #initialize correlation_per_zip dataframe with cols\n",
    "    correlation_per_zip_df = pd.DataFrame(columns=cols)\n",
    "\n",
    "    # iterate through each zip\n",
    "    for zip, df in combined_permits_pct_chg_df.groupby(level=0):\n",
    "\n",
    "        # calculate correlation of this zip's permit count to pct_chg\n",
    "        correlation_df = df.corr()\n",
    "\n",
    "        # record specific correlation value from correlation dataframe\n",
    "        correlation_value = correlation_df.loc['permit_count']['pct_chg']\n",
    "\n",
    "        # create row/series based on this zip's correlation to append to  dataframe\n",
    "        correlation_row = [{cols[0] : zip, cols[1] : correlation_value}]\n",
    "\n",
    "        # append row to dataframe\n",
    "        correlation_per_zip_df = correlation_per_zip_df.append(correlation_row)\n",
    "\n",
    "    # reset  dataframe index to zip/cols[0]\n",
    "    correlation_per_zip_df.set_index(cols[0], inplace=True)\n",
    " \n",
    "    return correlation_per_zip_df  # return correlation_per_zip_df with columns: 'zip', 'permit_correlation'\n",
    "    # return correlation_per_zip_df, permits_by_zipdate, pct_chg_by_zipdate"
   ]
  },
  {
   "cell_type": "code",
   "execution_count": 8,
   "metadata": {},
   "outputs": [],
   "source": [
    "# Read in the pct_change data\n",
    "pct_chg_data = Path(\"../resources/dan/sample_pct_chg_dan.csv\")\n",
    "pct_chg = pd.read_csv(pct_chg_data, sep='\\t')"
   ]
  },
  {
   "cell_type": "code",
   "execution_count": 9,
   "metadata": {},
   "outputs": [],
   "source": [
    "# Read in the construction permits data\n",
    "permits_data = Path(\"../resources/dan/sample_permits_dan.csv\")\n",
    "permits = pd.read_csv(permits_data, sep='\\t')"
   ]
  },
  {
   "cell_type": "code",
   "execution_count": 10,
   "metadata": {},
   "outputs": [],
   "source": [
    "# Test permits to pct_chg correlation\n",
    "permit_test_df = None\n",
    "permit_test_df = correlate_construction_permits(permits, pct_chg, groupby_month=True)"
   ]
  },
  {
   "cell_type": "code",
   "execution_count": 11,
   "metadata": {},
   "outputs": [
    {
     "data": {
      "text/html": [
       "<div>\n",
       "<style scoped>\n",
       "    .dataframe tbody tr th:only-of-type {\n",
       "        vertical-align: middle;\n",
       "    }\n",
       "\n",
       "    .dataframe tbody tr th {\n",
       "        vertical-align: top;\n",
       "    }\n",
       "\n",
       "    .dataframe thead th {\n",
       "        text-align: right;\n",
       "    }\n",
       "</style>\n",
       "<table border=\"1\" class=\"dataframe\">\n",
       "  <thead>\n",
       "    <tr style=\"text-align: right;\">\n",
       "      <th></th>\n",
       "      <th>permit_correlation</th>\n",
       "    </tr>\n",
       "    <tr>\n",
       "      <th>zip</th>\n",
       "      <th></th>\n",
       "    </tr>\n",
       "  </thead>\n",
       "  <tbody>\n",
       "    <tr>\n",
       "      <th>77002</th>\n",
       "      <td>0.199488</td>\n",
       "    </tr>\n",
       "    <tr>\n",
       "      <th>77003</th>\n",
       "      <td>-0.091708</td>\n",
       "    </tr>\n",
       "    <tr>\n",
       "      <th>77004</th>\n",
       "      <td>0.025493</td>\n",
       "    </tr>\n",
       "  </tbody>\n",
       "</table>\n",
       "</div>"
      ],
      "text/plain": [
       "       permit_correlation\n",
       "zip                      \n",
       "77002            0.199488\n",
       "77003           -0.091708\n",
       "77004            0.025493"
      ]
     },
     "execution_count": 11,
     "metadata": {},
     "output_type": "execute_result"
    }
   ],
   "source": [
    "# Print out test results for permits/pct_chg\n",
    "permit_test_df.head()"
   ]
  },
  {
   "cell_type": "code",
   "execution_count": 12,
   "metadata": {},
   "outputs": [],
   "source": [
    "# Put the target (housing value -- MEDV) in another DataFrame\n",
    "#ROI = pd.DataFrame(data.target, columns=[\"pct_change\"])\n",
    "\n",
    "# define the data/predictors as the pre-set feature names  \n",
    "# ind_var_1 = pd.DataFrame(data.data, columns=data.feature_names)"
   ]
  },
  {
   "cell_type": "code",
   "execution_count": 13,
   "metadata": {},
   "outputs": [],
   "source": [
    "## Without a constant\n",
    "\n",
    "#X = ind_var_1[\"permit_count\"]\n",
    "#y = ROI[\"pct_change\"]\n",
    "\n",
    "# Note the difference in argument order\n",
    "#model = sm.OLS(y, X).fit()\n",
    "#predictions = model.predict(X) # make the predictions by the model\n",
    "\n",
    "# Print out the statistics\n",
    "#model.summary()"
   ]
  },
  {
   "cell_type": "code",
   "execution_count": 15,
   "metadata": {},
   "outputs": [
    {
     "data": {
      "text/html": [
       "<div>\n",
       "<style scoped>\n",
       "    .dataframe tbody tr th:only-of-type {\n",
       "        vertical-align: middle;\n",
       "    }\n",
       "\n",
       "    .dataframe tbody tr th {\n",
       "        vertical-align: top;\n",
       "    }\n",
       "\n",
       "    .dataframe thead th {\n",
       "        text-align: right;\n",
       "    }\n",
       "</style>\n",
       "<table border=\"1\" class=\"dataframe\">\n",
       "  <thead>\n",
       "    <tr style=\"text-align: right;\">\n",
       "      <th></th>\n",
       "      <th>date</th>\n",
       "      <th>zip</th>\n",
       "      <th>permit_count</th>\n",
       "      <th>permit_type</th>\n",
       "      <th>date</th>\n",
       "      <th>zip</th>\n",
       "      <th>pct_chg</th>\n",
       "    </tr>\n",
       "  </thead>\n",
       "  <tbody>\n",
       "    <tr>\n",
       "      <th>0</th>\n",
       "      <td>2016-01-01</td>\n",
       "      <td>77002</td>\n",
       "      <td>327</td>\n",
       "      <td>Residential</td>\n",
       "      <td>2016-01-01</td>\n",
       "      <td>77002</td>\n",
       "      <td>0.07</td>\n",
       "    </tr>\n",
       "    <tr>\n",
       "      <th>1</th>\n",
       "      <td>2016-02-01</td>\n",
       "      <td>77002</td>\n",
       "      <td>136</td>\n",
       "      <td>Residential</td>\n",
       "      <td>2016-02-01</td>\n",
       "      <td>77002</td>\n",
       "      <td>0.09</td>\n",
       "    </tr>\n",
       "    <tr>\n",
       "      <th>2</th>\n",
       "      <td>2016-03-01</td>\n",
       "      <td>77002</td>\n",
       "      <td>289</td>\n",
       "      <td>Residential</td>\n",
       "      <td>2016-03-01</td>\n",
       "      <td>77002</td>\n",
       "      <td>-0.02</td>\n",
       "    </tr>\n",
       "    <tr>\n",
       "      <th>3</th>\n",
       "      <td>2016-04-01</td>\n",
       "      <td>77002</td>\n",
       "      <td>360</td>\n",
       "      <td>Residential</td>\n",
       "      <td>2016-04-01</td>\n",
       "      <td>77002</td>\n",
       "      <td>0.01</td>\n",
       "    </tr>\n",
       "    <tr>\n",
       "      <th>4</th>\n",
       "      <td>2016-05-01</td>\n",
       "      <td>77002</td>\n",
       "      <td>90</td>\n",
       "      <td>Residential</td>\n",
       "      <td>2016-05-01</td>\n",
       "      <td>77002</td>\n",
       "      <td>0.02</td>\n",
       "    </tr>\n",
       "  </tbody>\n",
       "</table>\n",
       "</div>"
      ],
      "text/plain": [
       "        date    zip  permit_count  permit_type       date    zip  pct_chg\n",
       "0 2016-01-01  77002           327  Residential 2016-01-01  77002     0.07\n",
       "1 2016-02-01  77002           136  Residential 2016-02-01  77002     0.09\n",
       "2 2016-03-01  77002           289  Residential 2016-03-01  77002    -0.02\n",
       "3 2016-04-01  77002           360  Residential 2016-04-01  77002     0.01\n",
       "4 2016-05-01  77002            90  Residential 2016-05-01  77002     0.02"
      ]
     },
     "execution_count": 15,
     "metadata": {},
     "output_type": "execute_result"
    }
   ],
   "source": [
    "combined_data = pd.concat([permits, pct_chg], axis=\"columns\", join=\"inner\").sort_index()\n",
    "combined_data.dropna(inplace=True)\n",
    "combined_data.head()"
   ]
  },
  {
   "cell_type": "code",
   "execution_count": null,
   "metadata": {},
   "outputs": [],
   "source": []
  }
 ],
 "metadata": {
  "kernelspec": {
   "display_name": "Python 3",
   "language": "python",
   "name": "python3"
  },
  "language_info": {
   "codemirror_mode": {
    "name": "ipython",
    "version": 3
   },
   "file_extension": ".py",
   "mimetype": "text/x-python",
   "name": "python",
   "nbconvert_exporter": "python",
   "pygments_lexer": "ipython3",
   "version": "3.7.7"
  }
 },
 "nbformat": 4,
 "nbformat_minor": 4
}

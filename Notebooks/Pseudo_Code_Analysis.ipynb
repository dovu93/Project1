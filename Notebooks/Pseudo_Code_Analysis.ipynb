{
 "cells": [
  {
   "cell_type": "code",
   "execution_count": null,
   "metadata": {},
   "outputs": [],
   "source": [
    "##Pseudo Code for Analysis\n",
    "#Read in APIs\n",
    "#Read CSVs\n",
    "#All Dates by year"
   ]
  },
  {
   "cell_type": "code",
   "execution_count": null,
   "metadata": {},
   "outputs": [],
   "source": [
    "#Price Per Square foot by Zip Code\n",
    "    #\"Date\" \"Zip\" \"Price Per Square foot\"\n",
    "#Schools\n",
    "    #\"Date\" \"Zip\" \"School District\" \"Grade\"\n",
    "#Crime\n",
    "    #\"Date\" \"Zip\" \"Type\" \n",
    "#Income Tax\n",
    "    #\"Date\" \"Zip\" \"Income Tax Paid\" \"Number of returns\" Total Charitable Contributions\" \"Brackets\"\n",
    "#Real Estate Tax\n",
    "    #\"Date\" \"Zip\" \"Real Estate taxes paid\" \"personal property tax\"\n",
    "#Opportunity Zones\n",
    "    #\"Zip\"\n",
    "#Stray Animals\n",
    "    #\"Date\" \"Zip\" \"Number of Strays Reported\"\n",
    "#Population\n",
    "    #\"Date\" \"Zip\" \"Number of People\"\n",
    "#Construction Permits\n",
    "    #\"Date\" \"Zip\" \"Type (Residential vs Commercial)\"\n",
    "#Restaurant, Bars, & Clubs"
   ]
  }
 ],
 "metadata": {
  "kernelspec": {
   "display_name": "Python 3",
   "language": "python",
   "name": "python3"
  },
  "language_info": {
   "codemirror_mode": {
    "name": "ipython",
    "version": 3
   },
   "file_extension": ".py",
   "mimetype": "text/x-python",
   "name": "python",
   "nbconvert_exporter": "python",
   "pygments_lexer": "ipython3",
   "version": "3.7.7"
  }
 },
 "nbformat": 4,
 "nbformat_minor": 4
}
